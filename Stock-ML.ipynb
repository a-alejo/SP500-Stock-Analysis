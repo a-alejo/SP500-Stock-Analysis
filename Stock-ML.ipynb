{
 "cells": [
  {
   "cell_type": "code",
   "execution_count": 88,
   "metadata": {},
   "outputs": [],
   "source": [
    "import pandas as pd\n",
    "import numpy as np\n",
    "import yfinance as yf"
   ]
  },
  {
   "cell_type": "code",
   "execution_count": 131,
   "metadata": {},
   "outputs": [],
   "source": [
    "def get_data(stock):\n",
    "    '''\n",
    "    This function queries a stock, drops unneeded columns, shifts the price down by a day and added a column labeled \"Target\" that determines if the next day price was higher for prediction.\n",
    "    '''\n",
    "    df = yf.Ticker(stock)\n",
    "    df = df.history(period='max')\n",
    "    df.drop(columns=['Dividends', 'Stock Splits','Capital Gains'], inplace=True)\n",
    "    df['Next_Day_Price'] = df['Close'].shift(-1)\n",
    "    df['Target'] = (df['Next_Day_Price'] > df['Close']).astype(int)\n",
    "    return df"
   ]
  },
  {
   "cell_type": "code",
   "execution_count": 172,
   "metadata": {},
   "outputs": [],
   "source": [
    "spy = get_data('SPY')"
   ]
  },
  {
   "cell_type": "code",
   "execution_count": 173,
   "metadata": {},
   "outputs": [
    {
     "data": {
      "text/html": [
       "<div>\n",
       "<style scoped>\n",
       "    .dataframe tbody tr th:only-of-type {\n",
       "        vertical-align: middle;\n",
       "    }\n",
       "\n",
       "    .dataframe tbody tr th {\n",
       "        vertical-align: top;\n",
       "    }\n",
       "\n",
       "    .dataframe thead th {\n",
       "        text-align: right;\n",
       "    }\n",
       "</style>\n",
       "<table border=\"1\" class=\"dataframe\">\n",
       "  <thead>\n",
       "    <tr style=\"text-align: right;\">\n",
       "      <th></th>\n",
       "      <th>Date</th>\n",
       "      <th>level_1</th>\n",
       "      <th>0</th>\n",
       "    </tr>\n",
       "  </thead>\n",
       "  <tbody>\n",
       "    <tr>\n",
       "      <th>0</th>\n",
       "      <td>1993-01-29 00:00:00-05:00</td>\n",
       "      <td>Open</td>\n",
       "      <td>2.495914e+01</td>\n",
       "    </tr>\n",
       "    <tr>\n",
       "      <th>1</th>\n",
       "      <td>1993-01-29 00:00:00-05:00</td>\n",
       "      <td>High</td>\n",
       "      <td>2.495914e+01</td>\n",
       "    </tr>\n",
       "    <tr>\n",
       "      <th>2</th>\n",
       "      <td>1993-01-29 00:00:00-05:00</td>\n",
       "      <td>Low</td>\n",
       "      <td>2.483496e+01</td>\n",
       "    </tr>\n",
       "    <tr>\n",
       "      <th>3</th>\n",
       "      <td>1993-01-29 00:00:00-05:00</td>\n",
       "      <td>Close</td>\n",
       "      <td>2.494140e+01</td>\n",
       "    </tr>\n",
       "    <tr>\n",
       "      <th>4</th>\n",
       "      <td>1993-01-29 00:00:00-05:00</td>\n",
       "      <td>Volume</td>\n",
       "      <td>1.003200e+06</td>\n",
       "    </tr>\n",
       "    <tr>\n",
       "      <th>...</th>\n",
       "      <td>...</td>\n",
       "      <td>...</td>\n",
       "      <td>...</td>\n",
       "    </tr>\n",
       "    <tr>\n",
       "      <th>54265</th>\n",
       "      <td>2023-11-10 00:00:00-05:00</td>\n",
       "      <td>High</td>\n",
       "      <td>4.409300e+02</td>\n",
       "    </tr>\n",
       "    <tr>\n",
       "      <th>54266</th>\n",
       "      <td>2023-11-10 00:00:00-05:00</td>\n",
       "      <td>Low</td>\n",
       "      <td>4.338300e+02</td>\n",
       "    </tr>\n",
       "    <tr>\n",
       "      <th>54267</th>\n",
       "      <td>2023-11-10 00:00:00-05:00</td>\n",
       "      <td>Close</td>\n",
       "      <td>4.406100e+02</td>\n",
       "    </tr>\n",
       "    <tr>\n",
       "      <th>54268</th>\n",
       "      <td>2023-11-10 00:00:00-05:00</td>\n",
       "      <td>Volume</td>\n",
       "      <td>8.946220e+07</td>\n",
       "    </tr>\n",
       "    <tr>\n",
       "      <th>54269</th>\n",
       "      <td>2023-11-10 00:00:00-05:00</td>\n",
       "      <td>Target</td>\n",
       "      <td>0.000000e+00</td>\n",
       "    </tr>\n",
       "  </tbody>\n",
       "</table>\n",
       "<p>54270 rows × 3 columns</p>\n",
       "</div>"
      ],
      "text/plain": [
       "                           Date level_1             0\n",
       "0     1993-01-29 00:00:00-05:00    Open  2.495914e+01\n",
       "1     1993-01-29 00:00:00-05:00    High  2.495914e+01\n",
       "2     1993-01-29 00:00:00-05:00     Low  2.483496e+01\n",
       "3     1993-01-29 00:00:00-05:00   Close  2.494140e+01\n",
       "4     1993-01-29 00:00:00-05:00  Volume  1.003200e+06\n",
       "...                         ...     ...           ...\n",
       "54265 2023-11-10 00:00:00-05:00    High  4.409300e+02\n",
       "54266 2023-11-10 00:00:00-05:00     Low  4.338300e+02\n",
       "54267 2023-11-10 00:00:00-05:00   Close  4.406100e+02\n",
       "54268 2023-11-10 00:00:00-05:00  Volume  8.946220e+07\n",
       "54269 2023-11-10 00:00:00-05:00  Target  0.000000e+00\n",
       "\n",
       "[54270 rows x 3 columns]"
      ]
     },
     "execution_count": 173,
     "metadata": {},
     "output_type": "execute_result"
    }
   ],
   "source": [
    "spy = spy.stack().reset_index()\n",
    "spy"
   ]
  },
  {
   "cell_type": "code",
   "execution_count": 140,
   "metadata": {},
   "outputs": [],
   "source": [
    "from sklearn.ensemble import RandomForestClassifier\n",
    "'''\n",
    "n_estimators = number of decisions tree to train\n",
    "min_samples_split = the minimum number of samples required to split an internal node\n",
    "random_state =  controls randomness of the sample\n",
    "'''\n",
    "\n",
    "model = RandomForestClassifier(n_estimators=100,min_samples_split=100, random_state=1)"
   ]
  }
 ],
 "metadata": {
  "kernelspec": {
   "display_name": "Data-Analysis-PY",
   "language": "python",
   "name": "python3"
  },
  "language_info": {
   "codemirror_mode": {
    "name": "ipython",
    "version": 3
   },
   "file_extension": ".py",
   "mimetype": "text/x-python",
   "name": "python",
   "nbconvert_exporter": "python",
   "pygments_lexer": "ipython3",
   "version": "3.11.0"
  }
 },
 "nbformat": 4,
 "nbformat_minor": 2
}
